{
 "cells": [
  {
   "cell_type": "markdown",
   "id": "c1d4eea2",
   "metadata": {},
   "source": [
    "# Data Science Tools and Ecosystem"
   ]
  },
  {
   "cell_type": "markdown",
   "id": "a461756e",
   "metadata": {},
   "source": [
    "#  \n",
    "In this notebook Data Science Tools and Notebooks are Summarized."
   ]
  },
  {
   "cell_type": "markdown",
   "id": "2d076634",
   "metadata": {},
   "source": [
    "## \n",
    "**Objectives:**\n",
    "- List popular languages for Data Science\n",
    "- List popular libraries used by Data Scientist\n",
    "- Create a table containing Data Science tools\n",
    "- Perform arithmetic operations \n",
    "- Convert minutes to hours"
   ]
  },
  {
   "cell_type": "markdown",
   "id": "9f468dff",
   "metadata": {},
   "source": [
    "#### \n",
    "Some of the popular languages that Data Scientists use are:\n",
    "1. Python\n",
    "2. SQL\n",
    "3. R\n",
    "4. Java"
   ]
  },
  {
   "cell_type": "markdown",
   "id": "d68ed7af",
   "metadata": {},
   "source": [
    "#### \n",
    "Some of the popular libraries used by Data Scientists include: \n",
    "1. Panda\n",
    "2. Numpy\n",
    "3. Matplotlib\n",
    "4. Apache Mlib"
   ]
  },
  {
   "cell_type": "markdown",
   "id": "08c8f7ae",
   "metadata": {},
   "source": [
    "|**Data Science Tools**|\n",
    "|----|\n",
    "|Jupyter Notebook|\n",
    "|Apache Zepplin|\n",
    "|R Studio|"
   ]
  },
  {
   "cell_type": "markdown",
   "id": "a25f5ab7",
   "metadata": {},
   "source": [
    "### Below are a few examples of evaluating arithmetic expressions in Python."
   ]
  },
  {
   "cell_type": "markdown",
   "id": "94bccb9b",
   "metadata": {},
   "source": [
    "### \n",
    "This is a simple arithmetic expression to multiply then add integers."
   ]
  },
  {
   "cell_type": "code",
   "execution_count": 1,
   "id": "4a3f3f24",
   "metadata": {},
   "outputs": [
    {
     "data": {
      "text/plain": [
       "17"
      ]
     },
     "execution_count": 1,
     "metadata": {},
     "output_type": "execute_result"
    }
   ],
   "source": [
    "(3*4)+5"
   ]
  },
  {
   "cell_type": "markdown",
   "id": "d9a80db7",
   "metadata": {},
   "source": [
    "### \n",
    "This will convert 200 minutes into hour by dividing by 60"
   ]
  },
  {
   "cell_type": "code",
   "execution_count": 2,
   "id": "a79042c5",
   "metadata": {},
   "outputs": [
    {
     "data": {
      "text/plain": [
       "3.3333333333333335"
      ]
     },
     "execution_count": 2,
     "metadata": {},
     "output_type": "execute_result"
    }
   ],
   "source": [
    "200/60"
   ]
  },
  {
   "cell_type": "markdown",
   "id": "0f2bf602",
   "metadata": {},
   "source": [
    "##  Author\n",
    "Arijeet Mishra"
   ]
  }
 ],
 "metadata": {
  "kernelspec": {
   "display_name": "Python 3 (ipykernel)",
   "language": "python",
   "name": "python3"
  },
  "language_info": {
   "codemirror_mode": {
    "name": "ipython",
    "version": 3
   },
   "file_extension": ".py",
   "mimetype": "text/x-python",
   "name": "python",
   "nbconvert_exporter": "python",
   "pygments_lexer": "ipython3",
   "version": "3.9.12"
  }
 },
 "nbformat": 4,
 "nbformat_minor": 5
}
